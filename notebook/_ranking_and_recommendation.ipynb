{
 "cells": [
  {
   "cell_type": "code",
   "execution_count": 3,
   "id": "ee5357bb",
   "metadata": {},
   "outputs": [],
   "source": [
    "import pandas as pd\n",
    "\n",
    "news_df = pd.read_csv(\"../data/news_with_similarity.csv\")\n",
    "top_recomendations = news_df.sort_values(by=\"similarity\",ascending=False)[[\"address\",\"category\",\"similarity\"]]\n",
    "top_10_recommendations = top_recomendations.head(10)\n",
    "top_10_recommendations.to_csv(\"../result/top_10_recommendations.csv\")"
   ]
  }
 ],
 "metadata": {
  "kernelspec": {
   "display_name": "myenv",
   "language": "python",
   "name": "python3"
  },
  "language_info": {
   "codemirror_mode": {
    "name": "ipython",
    "version": 3
   },
   "file_extension": ".py",
   "mimetype": "text/x-python",
   "name": "python",
   "nbconvert_exporter": "python",
   "pygments_lexer": "ipython3",
   "version": "3.13.3"
  }
 },
 "nbformat": 4,
 "nbformat_minor": 5
}
