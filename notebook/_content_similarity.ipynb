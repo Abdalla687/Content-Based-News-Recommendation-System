{
 "cells": [
  {
   "cell_type": "code",
   "execution_count": 4,
   "id": "6708fed6",
   "metadata": {},
   "outputs": [],
   "source": [
    "import pandas as pd\n",
    "from sklearn.feature_extraction.text import TfidfVectorizer\n",
    "from sklearn.metrics.pairwise import cosine_similarity\n",
    "\n",
    "news_df = pd.read_csv(\"../data/pure_news.csv\")\n",
    "doucment = news_df[\"pure_content\"].tolist()"
   ]
  },
  {
   "cell_type": "code",
   "execution_count": 7,
   "id": "ec0a1e74",
   "metadata": {},
   "outputs": [],
   "source": [
    "# يقوم بحذف الروابط بين الكلمات و تحويل النص الي ارقام\n",
    "victorizer = TfidfVectorizer(stop_words=\"english\",max_features=5000)\n",
    "# يطبق مجموعه الاوامر في الاخبار\n",
    "tfidf_matrix = victorizer.fit_transform(doucment)\n",
    "# يقوم بقراه رايي المستخدم\n",
    "with open (\"../result/feedback_users.txt\",\"r\") as f :\n",
    "    user_feedback = f.read()\n",
    "user_vector = victorizer.transform([user_feedback])\n",
    "\n",
    "similarity_scores = cosine_similarity(user_vector , tfidf_matrix).flatten()\n",
    "news_df[\"similarity\"] = similarity_scores\n",
    "\n",
    "news_df.to_csv(\"../data/news_with_similarity.csv\", index=False)"
   ]
  },
  {
   "cell_type": "code",
   "execution_count": null,
   "id": "e42433dc",
   "metadata": {},
   "outputs": [],
   "source": []
  }
 ],
 "metadata": {
  "kernelspec": {
   "display_name": "myenv",
   "language": "python",
   "name": "python3"
  },
  "language_info": {
   "codemirror_mode": {
    "name": "ipython",
    "version": 3
   },
   "file_extension": ".py",
   "mimetype": "text/x-python",
   "name": "python",
   "nbconvert_exporter": "python",
   "pygments_lexer": "ipython3",
   "version": "3.13.3"
  }
 },
 "nbformat": 4,
 "nbformat_minor": 5
}
