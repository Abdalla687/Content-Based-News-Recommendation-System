{
 "cells": [
  {
   "cell_type": "code",
   "execution_count": 1,
   "id": "78d670e5",
   "metadata": {},
   "outputs": [
    {
     "name": "stdout",
     "output_type": "stream",
     "text": [
      "   newsid   category      subcategory  \\\n",
      "0  N55528  lifestyle  lifestyleroyals   \n",
      "1  N19639     health       weightloss   \n",
      "2  N61837       news        newsworld   \n",
      "3  N53526     health           voices   \n",
      "4  N38324     health          medical   \n",
      "\n",
      "                                             address  \\\n",
      "0  The Brands Queen Elizabeth, Prince Charles, an...   \n",
      "1                      50 Worst Habits For Belly Fat   \n",
      "2  The Cost of Trump's Aid Freeze in the Trenches...   \n",
      "3  I Was An NBA Wife. Here's How It Affected My M...   \n",
      "4  How to Get Rid of Skin Tags, According to a De...   \n",
      "\n",
      "                                              summry  \\\n",
      "0  Shop the notebooks, jackets, and more that the...   \n",
      "1  These seemingly harmless habits are holding yo...   \n",
      "2  Lt. Ivan Molchanets peeked over a parapet of s...   \n",
      "3  I felt like I was a fraud, and being an NBA wi...   \n",
      "4  They seem harmless, but there's a very good re...   \n",
      "\n",
      "                                             url  \\\n",
      "0  https://assets.msn.com/labs/mind/AAGH0ET.html   \n",
      "1  https://assets.msn.com/labs/mind/AAB19MK.html   \n",
      "2  https://assets.msn.com/labs/mind/AAJgNsz.html   \n",
      "3  https://assets.msn.com/labs/mind/AACk2N6.html   \n",
      "4  https://assets.msn.com/labs/mind/AAAKEkt.html   \n",
      "\n",
      "                                            entities  \\\n",
      "0  [{\"Label\": \"Prince Philip, Duke of Edinburgh\",...   \n",
      "1  [{\"Label\": \"Adipose tissue\", \"Type\": \"C\", \"Wik...   \n",
      "2                                                 []   \n",
      "3                                                 []   \n",
      "4  [{\"Label\": \"Skin tag\", \"Type\": \"C\", \"WikidataI...   \n",
      "\n",
      "                                            concepts  \n",
      "0                                                 []  \n",
      "1  [{\"Label\": \"Adipose tissue\", \"Type\": \"C\", \"Wik...  \n",
      "2  [{\"Label\": \"Ukraine\", \"Type\": \"G\", \"WikidataId...  \n",
      "3  [{\"Label\": \"National Basketball Association\", ...  \n",
      "4  [{\"Label\": \"Skin tag\", \"Type\": \"C\", \"WikidataI...  \n"
     ]
    }
   ],
   "source": [
    "import numpy as np\n",
    "import pandas as pd\n",
    "\n",
    "data = pd.read_csv('../data/news.tsv', \n",
    "                   sep=\"\\t\",\n",
    "                   header=None)\n",
    "data.columns=[\"newsid\", \"category\", \"subcategory\", \"address\", \"summry\",\n",
    "    \"url\", \"entities\", \"concepts\"]\n",
    "print(data.head())\n"
   ]
  },
  {
   "cell_type": "code",
   "execution_count": 2,
   "id": "306438b0",
   "metadata": {},
   "outputs": [
    {
     "name": "stdout",
     "output_type": "stream",
     "text": [
      "<class 'pandas.core.frame.DataFrame'>\n",
      "RangeIndex: 51282 entries, 0 to 51281\n",
      "Data columns (total 8 columns):\n",
      " #   Column       Non-Null Count  Dtype \n",
      "---  ------       --------------  ----- \n",
      " 0   newsid       51282 non-null  object\n",
      " 1   category     51282 non-null  object\n",
      " 2   subcategory  51282 non-null  object\n",
      " 3   address      51282 non-null  object\n",
      " 4   summry       48616 non-null  object\n",
      " 5   url          51282 non-null  object\n",
      " 6   entities     51279 non-null  object\n",
      " 7   concepts     51278 non-null  object\n",
      "dtypes: object(8)\n",
      "memory usage: 3.1+ MB\n"
     ]
    }
   ],
   "source": [
    "data.info()"
   ]
  },
  {
   "cell_type": "code",
   "execution_count": 3,
   "id": "2eca8cf5",
   "metadata": {},
   "outputs": [
    {
     "data": {
      "text/plain": [
       "newsid            0\n",
       "category          0\n",
       "subcategory       0\n",
       "address           0\n",
       "summry         2666\n",
       "url               0\n",
       "entities          3\n",
       "concepts          4\n",
       "dtype: int64"
      ]
     },
     "execution_count": 3,
     "metadata": {},
     "output_type": "execute_result"
    }
   ],
   "source": [
    "data.isnull().sum()"
   ]
  },
  {
   "cell_type": "code",
   "execution_count": 4,
   "id": "8dc49057",
   "metadata": {},
   "outputs": [
    {
     "data": {
      "text/plain": [
       "newsid         0\n",
       "category       0\n",
       "subcategory    0\n",
       "address        0\n",
       "summry         0\n",
       "url            0\n",
       "entities       0\n",
       "concepts       0\n",
       "dtype: int64"
      ]
     },
     "execution_count": 4,
     "metadata": {},
     "output_type": "execute_result"
    }
   ],
   "source": [
    "data.dropna(inplace=True)\n",
    "data.isnull().sum()"
   ]
  },
  {
   "cell_type": "code",
   "execution_count": 5,
   "id": "a08c147c",
   "metadata": {},
   "outputs": [
    {
     "data": {
      "text/plain": [
       "np.int64(0)"
      ]
     },
     "execution_count": 5,
     "metadata": {},
     "output_type": "execute_result"
    }
   ],
   "source": [
    "data.duplicated().sum()"
   ]
  },
  {
   "cell_type": "markdown",
   "id": "551a7c20",
   "metadata": {},
   "source": [
    "# Extract Text Features \n",
    "## Step Data preparation :\n",
    "- important for TF-IDF\n",
    "- The accuracy of the recommendations has increased.\n",
    "- The training speed has improved.\n",
    "- The system has become more flexible in handling new data."
   ]
  },
  {
   "cell_type": "code",
   "execution_count": 6,
   "id": "a7d3dd0c",
   "metadata": {},
   "outputs": [
    {
     "name": "stdout",
     "output_type": "stream",
     "text": [
      "0    the brands queen elizabeth prince charles and ...\n",
      "1    50 worst habits for belly fat these seemingly ...\n",
      "2    the cost of trumps aid freeze in the trenches ...\n",
      "3    i was an nba wife heres how it affected my men...\n",
      "4    how to get rid of skin tags according to a der...\n",
      "Name: pure_content, dtype: object\n"
     ]
    }
   ],
   "source": [
    "# Translate all columne to string\n",
    "data[\"content\"] = data[\"address\"].astype(str) + \" \" + data[\"summry\"].astype(str)\n",
    "# More clean \n",
    "import re\n",
    "\n",
    "def pure_txt(txt):\n",
    "    txt=txt.lower()\n",
    "    txt = re.sub(r\"[^\\w\\s]\", \"\", txt)# يحفظ بالاحرف الابجديه و الارقام\n",
    "    txt = re.sub(r\"\\s+\", \" \", txt).strip()# يقوم بمسح المسافات مثل  \" hello world\" => \"hello world\"\n",
    "    txt = re.sub(r\"'\\w+\", \"\", txt)# like \"don't\" => \"dont\"\n",
    "    return txt\n",
    "\n",
    "data[\"pure_content\"]=data[\"content\"].apply(pure_txt)\n",
    "print(data[\"pure_content\"].head())\n"
   ]
  },
  {
   "cell_type": "code",
   "execution_count": 7,
   "id": "197d8e3a",
   "metadata": {},
   "outputs": [],
   "source": [
    "data.to_csv(\"../data/pure_news.csv\",index=False)"
   ]
  },
  {
   "cell_type": "code",
   "execution_count": 8,
   "id": "ee3a2ea3",
   "metadata": {},
   "outputs": [
    {
     "name": "stdout",
     "output_type": "stream",
     "text": [
      "   behavior_id user_id              timestamp  \\\n",
      "0            1  U13740  11/11/2019 9:05:58 AM   \n",
      "1            2  U91836  11/12/2019 6:11:30 PM   \n",
      "2            3  U73700  11/14/2019 7:01:48 AM   \n",
      "3            4  U34670  11/11/2019 5:28:05 AM   \n",
      "4            5   U8125  11/12/2019 4:11:21 PM   \n",
      "\n",
      "                                             history  \\\n",
      "0  N55189 N42782 N34694 N45794 N18445 N63302 N104...   \n",
      "1  N31739 N6072 N63045 N23979 N35656 N43353 N8129...   \n",
      "2  N10732 N25792 N7563 N21087 N41087 N5445 N60384...   \n",
      "3  N45729 N2203 N871 N53880 N41375 N43142 N33013 ...   \n",
      "4                        N10078 N56514 N14904 N33740   \n",
      "\n",
      "                                         impressions  \n",
      "0                                  N55689-1 N35729-0  \n",
      "1  N20678-0 N39317-0 N58114-0 N20495-0 N42977-0 N...  \n",
      "2  N50014-0 N23877-0 N35389-0 N49712-0 N16844-0 N...  \n",
      "3                N35729-0 N33632-0 N49685-1 N27581-0  \n",
      "4  N39985-0 N36050-0 N16096-0 N8400-1 N22407-0 N6...  \n"
     ]
    }
   ],
   "source": [
    "behavior_df = pd.read_csv(\"../data/behaviors.tsv\",sep=\"\\t\", header=None)\n",
    "behavior_df.columns=[\"behavior_id\",\"user_id\",\"timestamp\",\"history\",\"impressions\"]\n",
    "print(behavior_df.head())"
   ]
  },
  {
   "cell_type": "code",
   "execution_count": 9,
   "id": "1e374f3f",
   "metadata": {},
   "outputs": [
    {
     "data": {
      "text/plain": [
       "behavior_id       0\n",
       "user_id           0\n",
       "timestamp         0\n",
       "history        3238\n",
       "impressions       0\n",
       "dtype: int64"
      ]
     },
     "execution_count": 9,
     "metadata": {},
     "output_type": "execute_result"
    }
   ],
   "source": [
    "behavior_df.isnull().sum()"
   ]
  },
  {
   "cell_type": "code",
   "execution_count": 10,
   "id": "52466a17",
   "metadata": {},
   "outputs": [
    {
     "data": {
      "text/plain": [
       "np.int64(0)"
      ]
     },
     "execution_count": 10,
     "metadata": {},
     "output_type": "execute_result"
    }
   ],
   "source": [
    "behavior_df.duplicated().sum()"
   ]
  },
  {
   "cell_type": "code",
   "execution_count": 11,
   "id": "fbcda862",
   "metadata": {},
   "outputs": [
    {
     "name": "stdout",
     "output_type": "stream",
     "text": [
      "<class 'pandas.core.frame.DataFrame'>\n",
      "RangeIndex: 156965 entries, 0 to 156964\n",
      "Data columns (total 5 columns):\n",
      " #   Column       Non-Null Count   Dtype \n",
      "---  ------       --------------   ----- \n",
      " 0   behavior_id  156965 non-null  int64 \n",
      " 1   user_id      156965 non-null  object\n",
      " 2   timestamp    156965 non-null  object\n",
      " 3   history      153727 non-null  object\n",
      " 4   impressions  156965 non-null  object\n",
      "dtypes: int64(1), object(4)\n",
      "memory usage: 6.0+ MB\n"
     ]
    }
   ],
   "source": [
    "behavior_df.info()"
   ]
  },
  {
   "cell_type": "code",
   "execution_count": 12,
   "id": "0852a75d",
   "metadata": {},
   "outputs": [
    {
     "data": {
      "text/plain": [
       "behavior_id    673175.036839\n",
       "dtype: float64"
      ]
     },
     "execution_count": 12,
     "metadata": {},
     "output_type": "execute_result"
    }
   ],
   "source": [
    "behavior_df.describe().sum()"
   ]
  },
  {
   "cell_type": "code",
   "execution_count": 13,
   "id": "20ff2b28",
   "metadata": {},
   "outputs": [],
   "source": [
    "behavior_df.dropna(inplace=True)"
   ]
  },
  {
   "cell_type": "code",
   "execution_count": 14,
   "id": "acac7570",
   "metadata": {},
   "outputs": [],
   "source": [
    "behavior_df.to_csv(\"../data/clean_behaviors.csv\", index=False)"
   ]
  }
 ],
 "metadata": {
  "kernelspec": {
   "display_name": "myenv",
   "language": "python",
   "name": "python3"
  },
  "language_info": {
   "codemirror_mode": {
    "name": "ipython",
    "version": 3
   },
   "file_extension": ".py",
   "mimetype": "text/x-python",
   "name": "python",
   "nbconvert_exporter": "python",
   "pygments_lexer": "ipython3",
   "version": "3.13.3"
  }
 },
 "nbformat": 4,
 "nbformat_minor": 5
}
